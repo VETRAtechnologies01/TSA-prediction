{
  "nbformat": 4,
  "nbformat_minor": 0,
  "metadata": {
    "colab": {
      "provenance": []
    },
    "kernelspec": {
      "name": "python3",
      "display_name": "Python 3"
    },
    "language_info": {
      "name": "python"
    }
  },
  "cells": [
    {
      "cell_type": "code",
      "source": [
        "tweet = \"I can't believe the battery on this phone is still at 90% after a full day!\"\n",
        "prompt = f\"\"\"Classify the sentiment of the following tweet:\n",
        "Tweet: \"{tweet}\"\n",
        "Sentiment (Positive, Negative, Neutral):\"\"\"\n"
      ],
      "metadata": {
        "id": "2ooqjmgRU7ca"
      },
      "execution_count": 25,
      "outputs": []
    },
    {
      "cell_type": "code",
      "source": [
        "from openai import OpenAI\n",
        "\n",
        "client = OpenAI(api_key=\"your_openai_api_key_here\")"
      ],
      "metadata": {
        "id": "_ZXvh3D6Z0A5"
      },
      "execution_count": 26,
      "outputs": []
    },
    {
      "cell_type": "code",
      "source": [
        "pip install openai tweepy pandas\n"
      ],
      "metadata": {
        "colab": {
          "base_uri": "https://localhost:8080/"
        },
        "id": "HQS_Qxzkm_VI",
        "outputId": "b10d7050-7a18-4539-c20c-ad6a9ff3ce95"
      },
      "execution_count": 27,
      "outputs": [
        {
          "output_type": "stream",
          "name": "stdout",
          "text": [
            "Requirement already satisfied: openai in /usr/local/lib/python3.11/dist-packages (1.76.2)\n",
            "Requirement already satisfied: tweepy in /usr/local/lib/python3.11/dist-packages (4.15.0)\n",
            "Requirement already satisfied: pandas in /usr/local/lib/python3.11/dist-packages (2.2.2)\n",
            "Requirement already satisfied: anyio<5,>=3.5.0 in /usr/local/lib/python3.11/dist-packages (from openai) (4.9.0)\n",
            "Requirement already satisfied: distro<2,>=1.7.0 in /usr/local/lib/python3.11/dist-packages (from openai) (1.9.0)\n",
            "Requirement already satisfied: httpx<1,>=0.23.0 in /usr/local/lib/python3.11/dist-packages (from openai) (0.28.1)\n",
            "Requirement already satisfied: jiter<1,>=0.4.0 in /usr/local/lib/python3.11/dist-packages (from openai) (0.8.2)\n",
            "Requirement already satisfied: pydantic<3,>=1.9.0 in /usr/local/lib/python3.11/dist-packages (from openai) (2.11.4)\n",
            "Requirement already satisfied: sniffio in /usr/local/lib/python3.11/dist-packages (from openai) (1.3.1)\n",
            "Requirement already satisfied: tqdm>4 in /usr/local/lib/python3.11/dist-packages (from openai) (4.67.1)\n",
            "Requirement already satisfied: typing-extensions<5,>=4.11 in /usr/local/lib/python3.11/dist-packages (from openai) (4.13.2)\n",
            "Requirement already satisfied: oauthlib<4,>=3.2.0 in /usr/local/lib/python3.11/dist-packages (from tweepy) (3.2.2)\n",
            "Requirement already satisfied: requests<3,>=2.27.0 in /usr/local/lib/python3.11/dist-packages (from tweepy) (2.32.3)\n",
            "Requirement already satisfied: requests-oauthlib<3,>=1.2.0 in /usr/local/lib/python3.11/dist-packages (from tweepy) (2.0.0)\n",
            "Requirement already satisfied: numpy>=1.23.2 in /usr/local/lib/python3.11/dist-packages (from pandas) (2.0.2)\n",
            "Requirement already satisfied: python-dateutil>=2.8.2 in /usr/local/lib/python3.11/dist-packages (from pandas) (2.9.0.post0)\n",
            "Requirement already satisfied: pytz>=2020.1 in /usr/local/lib/python3.11/dist-packages (from pandas) (2025.2)\n",
            "Requirement already satisfied: tzdata>=2022.7 in /usr/local/lib/python3.11/dist-packages (from pandas) (2025.2)\n",
            "Requirement already satisfied: idna>=2.8 in /usr/local/lib/python3.11/dist-packages (from anyio<5,>=3.5.0->openai) (3.10)\n",
            "Requirement already satisfied: certifi in /usr/local/lib/python3.11/dist-packages (from httpx<1,>=0.23.0->openai) (2025.4.26)\n",
            "Requirement already satisfied: httpcore==1.* in /usr/local/lib/python3.11/dist-packages (from httpx<1,>=0.23.0->openai) (1.0.9)\n",
            "Requirement already satisfied: h11>=0.16 in /usr/local/lib/python3.11/dist-packages (from httpcore==1.*->httpx<1,>=0.23.0->openai) (0.16.0)\n",
            "Requirement already satisfied: annotated-types>=0.6.0 in /usr/local/lib/python3.11/dist-packages (from pydantic<3,>=1.9.0->openai) (0.7.0)\n",
            "Requirement already satisfied: pydantic-core==2.33.2 in /usr/local/lib/python3.11/dist-packages (from pydantic<3,>=1.9.0->openai) (2.33.2)\n",
            "Requirement already satisfied: typing-inspection>=0.4.0 in /usr/local/lib/python3.11/dist-packages (from pydantic<3,>=1.9.0->openai) (0.4.0)\n",
            "Requirement already satisfied: six>=1.5 in /usr/local/lib/python3.11/dist-packages (from python-dateutil>=2.8.2->pandas) (1.17.0)\n",
            "Requirement already satisfied: charset-normalizer<4,>=2 in /usr/local/lib/python3.11/dist-packages (from requests<3,>=2.27.0->tweepy) (3.4.1)\n",
            "Requirement already satisfied: urllib3<3,>=1.21.1 in /usr/local/lib/python3.11/dist-packages (from requests<3,>=2.27.0->tweepy) (2.4.0)\n"
          ]
        }
      ]
    },
    {
      "cell_type": "code",
      "source": [
        "import tweepy\n",
        "\n",
        "client = tweepy.Client(\n",
        "    bearer_token=\"YOUR_BEARER_TOKEN\",\n",
        "    consumer_key=\"YOUR_API_KEY\",\n",
        "    consumer_secret=\"YOUR_API_SECRET\",\n",
        "    access_token=\"YOUR_ACCESS_TOKEN\",\n",
        "    access_token_secret=\"YOUR_ACCESS_TOKEN_SECRET\"\n",
        ")"
      ],
      "metadata": {
        "id": "k50KYVa4ni3t"
      },
      "execution_count": 18,
      "outputs": []
    },
    {
      "cell_type": "code",
      "source": [
        "import tweepy\n",
        "import re\n",
        "\n",
        "class DataFetcherTool:\n",
        "    def _init_(self, twitter_config):\n",
        "        auth = tweepy.OAuthHandler(twitter_config['consumer_key'], twitter_config['consumer_secret'])\n",
        "        auth.set_access_token(twitter_config['access_token'], twitter_config['access_token_secret'])\n",
        "        self.api = tweepy.API(auth)\n",
        "\n",
        "    def run(self, query, count=10):\n",
        "        tweets = tweepy.Cursor(self.api.search_tweets,\n",
        "                               q=query,\n",
        "                               lang=\"en\",\n",
        "                               tweet_mode='extended').items(count)\n",
        "        return [tweet.full_text for tweet in tweets]\n",
        "\n",
        "class TextCleanerTool:\n",
        "    def run(self, text):\n",
        "        text = re.sub(r\"http\\S+|www\\S+|https\\S+\", '', text)\n",
        "        text = re.sub(r\"@\\w+|#\\w+\", '', text)\n",
        "        text = re.sub(r\"[^\\w\\s]\", '', text)\n",
        "        text = re.sub(r\"\\d+\", '', text)\n",
        "        return text.lower().strip()"
      ],
      "metadata": {
        "id": "-9obUOiNo2Nd"
      },
      "execution_count": 28,
      "outputs": []
    },
    {
      "cell_type": "code",
      "source": [
        "import openai\n",
        "import tweepy\n",
        "import pandas as pd\n",
        "import re\n",
        "\n",
        "# ===============================\n",
        "# CONFIGURATION\n",
        "# ===============================\n",
        "openai.api_key = \"YOUR_OPENAI_API_KEY\"\n",
        "\n",
        "TWITTER_CONFIG = {\n",
        "    \"consumer_key\": \"YOUR_TWITTER_CONSUMER_KEY\",\n",
        "    \"consumer_secret\": \"YOUR_TWITTER_CONSUMER_SECRET\",\n",
        "    \"access_token\": \"YOUR_TWITTER_ACCESS_TOKEN\",\n",
        "    \"access_token_secret\": \"YOUR_TWITTER_ACCESS_TOKEN_SECRET\"\n",
        "}\n",
        "\n",
        "# ===============================\n",
        "# TOOL: DataFetcherTool\n",
        "# ===============================\n",
        "class DataFetcherTool:\n",
        "    def __init__(self, twitter_config):\n",
        "        auth = tweepy.OAuthHandler(twitter_config[\"consumer_key\"], twitter_config[\"consumer_secret\"])\n",
        "        auth.set_access_token(twitter_config[\"access_token\"], twitter_config[\"access_token_secret\"])\n",
        "        self.api = tweepy.API(auth, wait_on_rate_limit=True)\n",
        "\n",
        "    def run(self, query, count=10):\n",
        "        tweets = []\n",
        "        try:\n",
        "            for tweet in tweepy.Cursor(self.api.search_tweets, q=query, lang=\"en\", tweet_mode='extended').items(count):\n",
        "                # Check for retweet and extract full_text accordingly\n",
        "                text = tweet.full_text if not hasattr(tweet, 'retweeted_status') else tweet.retweeted_status.full_text\n",
        "                tweets.append(text)\n",
        "        except Exception as e:\n",
        "            print(f\"Error fetching tweets: {e}\")\n",
        "        return tweets\n",
        "\n",
        "# ===============================\n",
        "# TOOL: TextCleanerTool\n",
        "# ===============================\n",
        "class TextCleanerTool:\n",
        "    def run(self, text):\n",
        "        text = re.sub(r\"http\\S+|www\\S+|https\\S+\", '', text)\n",
        "        text = re.sub(r\"@\\w+|#\\w+\", '', text)\n",
        "        text = re.sub(r\"[^\\w\\s]\", '', text)\n",
        "        text = re.sub(r\"\\d+\", '', text)\n",
        "        return text.lower().strip()\n",
        "\n",
        "# ===============================\n",
        "# TOOL: SentimentAnalyzerTool (GPT)\n",
        "# ===============================\n",
        "class SentimentAnalyzerTool:\n",
        "    def run(self, text):\n",
        "        try:\n",
        "            prompt = f\"Classify the sentiment of the following tweet as Positive, Negative, or Neutral:\\n\\n\\\"{text}\\\"\\n\\nSentiment:\"\n",
        "            response = openai.Completion.create(\n",
        "                engine=\"text-davinci-003\",\n",
        "                prompt=prompt,\n",
        "                max_tokens=5,\n",
        "                temperature=0\n",
        "            )\n",
        "            return response.choices[0].text.strip()\n",
        "        except Exception as e:\n",
        "            print(f\"Error analyzing sentiment: {e}\")\n",
        "            return \"Unknown\"\n",
        "\n",
        "# ===============================\n",
        "# AGENT\n",
        "# ===============================\n",
        "class TwitterSentimentAgent:\n",
        "    def __init__(self, tools):\n",
        "        self.fetcher = tools['fetcher']\n",
        "        self.cleaner = tools['cleaner']\n",
        "        self.analyzer = tools['analyzer']\n",
        "\n",
        "    def analyze(self, query, count=10):\n",
        "        print(f\"Fetching tweets for query: {query}\")\n",
        "        tweets = self.fetcher.run(query, count)\n",
        "        results = []\n",
        "        print(f\"Analyzing {len(tweets)} tweets...\")\n",
        "        for tweet in tweets:\n",
        "            cleaned = self.cleaner.run(tweet)\n",
        "            sentiment = self.analyzer.run(cleaned)\n",
        "            results.append({\"original\": tweet, \"cleaned\": cleaned, \"sentiment\": sentiment})\n",
        "        return pd.DataFrame(results)\n",
        "\n",
        "# ===============================\n",
        "# MAIN\n",
        "# ===============================\n",
        "def main():\n",
        "    tools = {\n",
        "        \"fetcher\": DataFetcherTool(TWITTER_CONFIG),\n",
        "        \"cleaner\": TextCleanerTool(),\n",
        "        \"analyzer\": SentimentAnalyzerTool()\n",
        "    }\n",
        "\n",
        "    agent = TwitterSentimentAgent(tools)\n",
        "    df = agent.analyze(\"OpenAI\", count=5)\n",
        "    print(df)\n",
        "    df.to_csv(\"sentiment_results.csv\", index=False)\n",
        "\n",
        "if __name__ == \"__main__\":\n",
        "    main()\n"
      ],
      "metadata": {
        "colab": {
          "base_uri": "https://localhost:8080/"
        },
        "id": "nR72BWu9ph6z",
        "outputId": "c5808ad5-d534-4559-e74b-d0da3aabb6e5"
      },
      "execution_count": 29,
      "outputs": [
        {
          "output_type": "stream",
          "name": "stdout",
          "text": [
            "Fetching tweets for query: OpenAI\n",
            "Error fetching tweets: 401 Unauthorized\n",
            "89 - Invalid or expired token.\n",
            "Analyzing 0 tweets...\n",
            "Empty DataFrame\n",
            "Columns: []\n",
            "Index: []\n"
          ]
        }
      ]
    }
  ]
}